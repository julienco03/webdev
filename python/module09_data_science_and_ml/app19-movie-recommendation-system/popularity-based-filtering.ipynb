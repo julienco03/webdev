{
 "cells": [
  {
   "cell_type": "markdown",
   "id": "f5613462-a764-4717-b52d-4a5002ea6d1d",
   "metadata": {
    "tags": []
   },
   "source": [
    "# Popularity-based Filtering"
   ]
  },
  {
   "cell_type": "code",
   "execution_count": 1,
   "id": "d106f099-f609-4a0b-aeb9-50b176c6660b",
   "metadata": {},
   "outputs": [],
   "source": [
    "import pandas\n",
    "movies = pandas.read_csv(\"data/movies.csv\")\n",
    "credits = pandas.read_csv(\"data/credits.csv\")\n",
    "ratings = pandas.read_csv(\"data/ratings.csv\")"
   ]
  },
  {
   "cell_type": "markdown",
   "id": "d0a4f382-9bad-4dcb-9dc8-99e0bd385673",
   "metadata": {
    "tags": []
   },
   "source": [
    "### Calculate the weighted rating and add it as column to the csv file"
   ]
  },
  {
   "cell_type": "markdown",
   "id": "9ba2621f-5e39-4640-ab2c-2cfedf7167f3",
   "metadata": {},
   "source": [
    "WR = (v / (v+m)) * R + (m / (v+m)) * C\n",
    "\n",
    "v = number of votes for a movie  \n",
    "m = minimum number of votes required  \n",
    "R = average rating of the movie  \n",
    "C = average rating across all movies  "
   ]
  },
  {
   "cell_type": "code",
   "execution_count": 2,
   "id": "7a7afc7e-4402-4c34-9810-d925cc5c9bc7",
   "metadata": {},
   "outputs": [
    {
     "data": {
      "text/plain": [
       "1838.4000000000015"
      ]
     },
     "execution_count": 2,
     "metadata": {},
     "output_type": "execute_result"
    }
   ],
   "source": [
    "m = movies[\"vote_count\"].quantile(0.9)\n",
    "m"
   ]
  },
  {
   "cell_type": "code",
   "execution_count": 3,
   "id": "c6ae62c1-9410-45a1-b1bf-b7526c621761",
   "metadata": {},
   "outputs": [
    {
     "data": {
      "text/plain": [
       "6.092171559442016"
      ]
     },
     "execution_count": 3,
     "metadata": {},
     "output_type": "execute_result"
    }
   ],
   "source": [
    "C = movies[\"vote_average\"].mean()\n",
    "C"
   ]
  },
  {
   "cell_type": "code",
   "execution_count": 4,
   "id": "b066492a-ebe8-4de5-85d2-b7bfdd2c3eb2",
   "metadata": {},
   "outputs": [],
   "source": [
    "def weighted_rating(df, m=m, C=C):\n",
    "    v = df[\"vote_count\"]\n",
    "    R = df[\"vote_average\"]\n",
    "    WR = (v / (v+m)) * R + (m / (v+m)) * C\n",
    "    return WR"
   ]
  },
  {
   "cell_type": "code",
   "execution_count": 5,
   "id": "42d1bcc9-49e8-4a47-a725-c3a50b683d8b",
   "metadata": {},
   "outputs": [],
   "source": [
    "movies[\"weighted_rating\"] = movies.apply(weighted_rating, axis=1)"
   ]
  },
  {
   "cell_type": "markdown",
   "id": "0d685d18-3685-46c0-9645-eae0f4428a0d",
   "metadata": {
    "tags": []
   },
   "source": [
    "### Print the top 10 movies with the highest weighted rating"
   ]
  },
  {
   "cell_type": "code",
   "execution_count": 6,
   "id": "e2cf1ccf-0ced-40f4-9cfb-e2f9a7870b42",
   "metadata": {},
   "outputs": [
    {
     "data": {
      "text/html": [
       "<div>\n",
       "<style scoped>\n",
       "    .dataframe tbody tr th:only-of-type {\n",
       "        vertical-align: middle;\n",
       "    }\n",
       "\n",
       "    .dataframe tbody tr th {\n",
       "        vertical-align: top;\n",
       "    }\n",
       "\n",
       "    .dataframe thead th {\n",
       "        text-align: right;\n",
       "    }\n",
       "</style>\n",
       "<table border=\"1\" class=\"dataframe\">\n",
       "  <thead>\n",
       "    <tr style=\"text-align: right;\">\n",
       "      <th></th>\n",
       "      <th>title</th>\n",
       "      <th>weighted_rating</th>\n",
       "    </tr>\n",
       "  </thead>\n",
       "  <tbody>\n",
       "    <tr>\n",
       "      <th>1881</th>\n",
       "      <td>The Shawshank Redemption</td>\n",
       "      <td>8.059258</td>\n",
       "    </tr>\n",
       "    <tr>\n",
       "      <th>662</th>\n",
       "      <td>Fight Club</td>\n",
       "      <td>7.939256</td>\n",
       "    </tr>\n",
       "    <tr>\n",
       "      <th>65</th>\n",
       "      <td>The Dark Knight</td>\n",
       "      <td>7.920020</td>\n",
       "    </tr>\n",
       "    <tr>\n",
       "      <th>3232</th>\n",
       "      <td>Pulp Fiction</td>\n",
       "      <td>7.904645</td>\n",
       "    </tr>\n",
       "    <tr>\n",
       "      <th>96</th>\n",
       "      <td>Inception</td>\n",
       "      <td>7.863239</td>\n",
       "    </tr>\n",
       "    <tr>\n",
       "      <th>3337</th>\n",
       "      <td>The Godfather</td>\n",
       "      <td>7.851236</td>\n",
       "    </tr>\n",
       "    <tr>\n",
       "      <th>95</th>\n",
       "      <td>Interstellar</td>\n",
       "      <td>7.809479</td>\n",
       "    </tr>\n",
       "    <tr>\n",
       "      <th>809</th>\n",
       "      <td>Forrest Gump</td>\n",
       "      <td>7.803188</td>\n",
       "    </tr>\n",
       "    <tr>\n",
       "      <th>329</th>\n",
       "      <td>The Lord of the Rings: The Return of the King</td>\n",
       "      <td>7.727243</td>\n",
       "    </tr>\n",
       "    <tr>\n",
       "      <th>1990</th>\n",
       "      <td>The Empire Strikes Back</td>\n",
       "      <td>7.697884</td>\n",
       "    </tr>\n",
       "  </tbody>\n",
       "</table>\n",
       "</div>"
      ],
      "text/plain": [
       "                                              title  weighted_rating\n",
       "1881                       The Shawshank Redemption         8.059258\n",
       "662                                      Fight Club         7.939256\n",
       "65                                  The Dark Knight         7.920020\n",
       "3232                                   Pulp Fiction         7.904645\n",
       "96                                        Inception         7.863239\n",
       "3337                                  The Godfather         7.851236\n",
       "95                                     Interstellar         7.809479\n",
       "809                                    Forrest Gump         7.803188\n",
       "329   The Lord of the Rings: The Return of the King         7.727243\n",
       "1990                        The Empire Strikes Back         7.697884"
      ]
     },
     "execution_count": 6,
     "metadata": {},
     "output_type": "execute_result"
    }
   ],
   "source": [
    "movies.sort_values(\"weighted_rating\", ascending=False)[[\"title\", \"weighted_rating\"]].head(10)"
   ]
  }
 ],
 "metadata": {
  "kernelspec": {
   "display_name": "Python 3 (ipykernel)",
   "language": "python",
   "name": "python3"
  },
  "language_info": {
   "codemirror_mode": {
    "name": "ipython",
    "version": 3
   },
   "file_extension": ".py",
   "mimetype": "text/x-python",
   "name": "python",
   "nbconvert_exporter": "python",
   "pygments_lexer": "ipython3",
   "version": "3.10.7"
  }
 },
 "nbformat": 4,
 "nbformat_minor": 5
}
